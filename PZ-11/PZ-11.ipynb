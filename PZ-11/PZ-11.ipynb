{
  "nbformat": 4,
  "nbformat_minor": 0,
  "metadata": {
    "colab": {
      "name": "Untitled0.ipynb",
      "provenance": [],
      "authorship_tag": "ABX9TyPuOBEuOkaYxwAj/QRMd9Rp",
      "include_colab_link": true
    },
    "kernelspec": {
      "name": "python3",
      "display_name": "Python 3"
    },
    "language_info": {
      "name": "python"
    }
  },
  "cells": [
    {
      "cell_type": "markdown",
      "metadata": {
        "id": "view-in-github",
        "colab_type": "text"
      },
      "source": [
        "<a href=\"https://colab.research.google.com/github/PalpatinChip/proj_1sem_Mezernyy/blob/main/PZ-11/PZ-11.ipynb\" target=\"_parent\"><img src=\"https://colab.research.google.com/assets/colab-badge.svg\" alt=\"Open In Colab\"/></a>"
      ]
    },
    {
      "cell_type": "markdown",
      "source": [
        "**Практическая номер 3**"
      ],
      "metadata": {
        "id": "cFezoh8BrDYt"
      }
    },
    {
      "cell_type": "code",
      "execution_count": 1,
      "metadata": {
        "colab": {
          "base_uri": "https://localhost:8080/"
        },
        "id": "rJHp8I2sqr7O",
        "outputId": "be0d7193-6edc-46ae-ef31-ea5a88015765"
      },
      "outputs": [
        {
          "output_type": "stream",
          "name": "stdout",
          "text": [
            "Введите число А:\n",
            "12\n",
            "Введите число B:\n",
            "13\n",
            "Введите число C:\n",
            "14\n",
            "Высказывание «Ровно одно из чисел A, B, C         положительное» это истина\n"
          ]
        }
      ],
      "source": [
        "# Даны три целых числа: A, B, C. Проверить истинность высказывания: \n",
        "# «Ровно одно из чисел A, B, C положительное».\n",
        "\n",
        "def do_it():\n",
        "    a = input(\"Введите число А:\\n\")\n",
        "    b = input(\"Введите число B:\\n\")\n",
        "    c = input(\"Введите число C:\\n\")\n",
        "\n",
        "    while type(a) != int:                           # обработка исключений A\n",
        "        try:\n",
        "            a = int(a)\n",
        "        except ValueError:\n",
        "            print('Введите число заново!')\n",
        "            a = input('Введите число A:\\n')\n",
        "    while type(b) != int:                           # обработка исключений B\n",
        "        try:\n",
        "            b = int(b)\n",
        "        except ValueError:\n",
        "            print('Введите число заново!')\n",
        "            b = input('Введите число B:\\n')\n",
        "    while type(c) != int:                           # обработка исключений C\n",
        "        try:\n",
        "            c = int(c)\n",
        "        except ValueError:\n",
        "            print('Введите число заново!')\n",
        "            c = input('Введите число C:\\n')\n",
        "    if a > 0 or b > 0 or c > 0:                    # Проверка на положительность\n",
        "        print(\"Высказывание «Ровно одно из чисел A, B, C\\\n",
        "         положительное» это истина\")    # Вывод результата\n",
        "    else:\n",
        "        print(\"Все числа отрицательные\")                      # Вывод результата\n",
        "\n",
        "do_it()\n"
      ]
    },
    {
      "cell_type": "markdown",
      "source": [
        "**Практическая работа 4**"
      ],
      "metadata": {
        "id": "jFXMsrOFsD3P"
      }
    },
    {
      "cell_type": "code",
      "source": [
        "# Дано вещественное число A и целое число N (>0). Используя один цикл, \n",
        "# вывести все целые степени числа A от 1 до N.\n",
        "\n",
        "\n",
        "def do_it():\n",
        "    a = input(\"Введите число A\\n\")\n",
        "    n = input(\"Введите число N\\n\")\n",
        "\n",
        "    while type(a) != float:                           # обработка исключений A\n",
        "        try:\n",
        "            a = float(a)\n",
        "        except ValueError:\n",
        "            print('Введите число заново!')\n",
        "            a = input('Введите число A:\\n')\n",
        "    while type(n) != int:                           # обработка исключений N\n",
        "        try:\n",
        "            n = int(n)\n",
        "        except ValueError:\n",
        "            print('Введите число заново!')\n",
        "            n = input('Введите число N:\\n')\n",
        "    if n > 0:\n",
        "        print(', '.join(str(int(a) ** i)\\\n",
        "                        for i in range(1, n+1))) # Вывод строки из степеней\n",
        "    else:\n",
        "        print(\"Ошибка\")\n",
        "\n",
        "do_it()\n"
      ],
      "metadata": {
        "colab": {
          "base_uri": "https://localhost:8080/"
        },
        "id": "xqOXAmsXqw5d",
        "outputId": "bb059425-85ac-4206-8583-88df24750693"
      },
      "execution_count": 2,
      "outputs": [
        {
          "output_type": "stream",
          "name": "stdout",
          "text": [
            "Введите число A\n",
            "2\n",
            "Введите число N\n",
            "5\n",
            "2, 4, 8, 16, 32\n"
          ]
        }
      ]
    },
    {
      "cell_type": "markdown",
      "source": [
        "**Практическая работа 5**"
      ],
      "metadata": {
        "id": "YdHLtNPnsquq"
      }
    },
    {
      "cell_type": "code",
      "source": [
        "# С помощью функции получить вертикальную и горизонтальную линии. \n",
        "# Линия проводится многократной печатью символа.\n",
        "# Заключить слово в рамку из символов\n",
        "\n",
        "def do_it():      # Объявление функции\n",
        "    x = int(input('Введите горизонталь: '))\n",
        "    y = int(input('Введите вертикаль: '))\n",
        "    word = input('Введите слово: ')\n",
        "    x = len(word) + 2 if x < len(word) + 2 else x  # Проверка размеров коробки\n",
        "\n",
        "    for i in range(0, y):\n",
        "        if i == 0 or i == y - 1:\n",
        "            print('|' + '-' * (x - 2) + '|')       # Печать верха и низа коробки\n",
        "        elif i == int(y // 2):\n",
        "            print('|' + word.center(x - 2) + '|')    # Печать строки со словом\n",
        "        else:\n",
        "            print('|' + ' ' * (x - 2) + '|')            # Печать пустых строк\n",
        "\n",
        "do_it()\n"
      ],
      "metadata": {
        "colab": {
          "base_uri": "https://localhost:8080/"
        },
        "id": "CR7YwEIaswRO",
        "outputId": "d0d6a77d-4d9a-4210-9d4c-37d47ce24260"
      },
      "execution_count": 4,
      "outputs": [
        {
          "output_type": "stream",
          "name": "stdout",
          "text": [
            "Введите горизонталь: 5\n",
            "Введите вертикаль: 5\n",
            "Введите слово: Слово\n",
            "|-----|\n",
            "|     |\n",
            "|Слово|\n",
            "|     |\n",
            "|-----|\n"
          ]
        }
      ]
    }
  ]
}